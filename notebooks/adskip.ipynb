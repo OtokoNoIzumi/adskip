{
 "cells": [
  {
   "cell_type": "code",
   "execution_count": null,
   "id": "c637d325-34cf-4f1e-8748-ab8b392bee1f",
   "metadata": {},
   "outputs": [],
   "source": [
    "# 检测 导出的app.py 文件\n",
    "file_path = \"../app.py\"\n",
    "!flake8 {file_path} --max-line-length=240\n",
    "!pylint {file_path}"
   ]
  },
  {
   "cell_type": "code",
   "execution_count": null,
   "id": "9df7bb3c",
   "metadata": {},
   "outputs": [],
   "source": [
    "%%writefile ..\\app.py\n",
    "\"\"\"\n",
    "项目初始化模板\n",
    "\n",
    "这个文件用于设置项目的基本配置，包括:\n",
    "1. 设置项目路径\n",
    "2. 加载环境变量\n",
    "3. 读取配置文件\n",
    "\n",
    "注意: 此文件可以通过notebook导出到app.py，也可以直接在notebook中运行\n",
    "\"\"\"\n",
    "import os\n",
    "import sys\n",
    "import json\n",
    "from dotenv import load_dotenv\n",
    "\n",
    "# ===== 初始化项目路径 =====\n",
    "# 根据运行环境(脚本或notebook)获取项目根目录\n",
    "if \"__file__\" in globals():\n",
    "    # 脚本环境: 使用文件的绝对路径\n",
    "    current_dir = os.path.dirname(os.path.abspath(__file__))\n",
    "    root_dir = os.path.normpath(os.path.join(current_dir, \"..\"))\n",
    "else:\n",
    "    # Jupyter Notebook环境: 使用当前工作目录\n",
    "    current_dir = os.getcwd()\n",
    "    current_dir = os.path.join(current_dir, \"..\")\n",
    "    root_dir = os.path.normpath(os.path.join(current_dir))\n",
    "\n",
    "# 规范化路径并添加到系统路径\n",
    "current_dir = os.path.normpath(current_dir)\n",
    "sys.path.append(current_dir)\n",
    "\n",
    "# 加载.env文件中的环境变量\n",
    "load_dotenv(dotenv_path=os.path.join(current_dir, \".env\"))\n",
    "\n",
    "# 加载项目配置文件\n",
    "with open(os.path.join(current_dir, \"config.json\"), encoding=\"utf-8\") as file:\n",
    "    config = json.load(file)\n"
   ]
  },
  {
   "cell_type": "code",
   "execution_count": 1,
   "id": "81a070f9",
   "metadata": {},
   "outputs": [
    {
     "data": {
      "text/plain": [
       "'<svg width=\"9.3mm\" height=\"9.3mm\" version=\"1.1\" viewBox=\"0 0 9.3 9.3\" fill_color=\"#FB7299\" back_color=\"#FFFFFF\" xmlns=\"http://www.w3.org/2000/svg\"><path d=\"M0.3,0.3H0.6V0.6H0.3zM0.6,0.3H0.9V0.6H0.6zM0.9,0.3H1.2V0.6H0.9zM1.2,0.3H1.5V0.6H1.2zM1.5,0.3H1.8V0.6H1.5zM1.8,0.3H2.1V0.6H1.8zM2.1,0.3H2.4V0.6H2.1zM2.7,0.3H3V0.6H2.7zM3,0.3H3.3V0.6H3zM3.6,0.3H3.9V0.6H3.6zM3.9,0.3H4.2V0.6H3.9zM4.2,0.3H4.5V0.6H4.2zM4.5,0.3H4.8V0.6H4.5zM4.8,0.3H5.1V0.6H4.8zM5.1,0.3H5.4V0.6H5.1zM5.4,0.3H5.7V0.6H5.4zM5.7,0.3H6V0.6H5.7zM6.9,0.3H7.2V0.6H6.9zM7.2,0.3H7.5V0.6H7.2zM7.5,0.3H7.8V0.6H7.5zM7.8,0.3H8.1V0.6H7.8zM8.1,0.3H8.4V0.6H8.1zM8.4,0.3H8.7V0.6H8.4zM8.7,0.3H9V0.6H8.7zM0.3,0.6H0.6V0.9H0.3zM2.1,0.6H2.4V0.9H2.1zM3.9,0.6H4.2V0.9H3.9zM4.5,0.6H4.8V0.9H4.5zM5.1,0.6H5.4V0.9H5.1zM5.7,0.6H6V0.9H5.7zM6,0.6H6.3V0.9H6zM6.9,0.6H7.2V0.9H6.9zM8.7,0.6H9V0.9H8.7zM0.3,0.9H0.6V1.2H0.3zM0.9,0.9H1.2V1.2H0.9zM1.2,0.9H1.5V1.2H1.2zM1.5,0.9H1.8V1.2H1.5zM2.1,0.9H2.4V1.2H2.1zM3.3,0.9H3.6V1.2H3.3zM4.5,0.9H4.8V1.2H4.5zM4.8,0.9H5.1V1.2H4.8zM5.4,0.9H5.7V1.2H5.4zM5.7,0.9H6V1.2H5.7zM6,0.9H6.3V1.2H6zM6.3,0.9H6.6V1.2H6.3zM6.9,0.9H7.2V1.2H6.9zM7.5,0.9H7.8V1.2H7.5zM7.8,0.9H8.1V1.2H7.8zM8.1,0.9H8.4V1.2H8.1zM8.7,0.9H9V1.2H8.7zM0.3,1.2H0.6V1.5H0.3zM0.9,1.2H1.2V1.5H0.9zM1.2,1.2H1.5V1.5H1.2zM1.5,1.2H1.8V1.5H1.5zM2.1,1.2H2.4V1.5H2.1zM2.7,1.2H3V1.5H2.7zM3.3,1.2H3.6V1.5H3.3zM3.6,1.2H3.9V1.5H3.6zM3.9,1.2H4.2V1.5H3.9zM4.2,1.2H4.5V1.5H4.2zM4.5,1.2H4.8V1.5H4.5zM4.8,1.2H5.1V1.5H4.8zM5.1,1.2H5.4V1.5H5.1zM5.7,1.2H6V1.5H5.7zM6.9,1.2H7.2V1.5H6.9zM7.5,1.2H7.8V1.5H7.5zM7.8,1.2H8.1V1.5H7.8zM8.1,1.2H8.4V1.5H8.1zM8.7,1.2H9V1.5H8.7zM0.3,1.5H0.6V1.8H0.3zM0.9,1.5H1.2V1.8H0.9zM1.2,1.5H1.5V1.8H1.2zM1.5,1.5H1.8V1.8H1.5zM2.1,1.5H2.4V1.8H2.1zM2.7,1.5H3V1.8H2.7zM3,1.5H3.3V1.8H3zM3.9,1.5H4.2V1.8H3.9zM4.2,1.5H4.5V1.8H4.2zM4.8,1.5H5.1V1.8H4.8zM5.1,1.5H5.4V1.8H5.1zM6.9,1.5H7.2V1.8H6.9zM7.5,1.5H7.8V1.8H7.5zM7.8,1.5H8.1V1.8H7.8zM8.1,1.5H8.4V1.8H8.1zM8.7,1.5H9V1.8H8.7zM0.3,1.8H0.6V2.1H0.3zM2.1,1.8H2.4V2.1H2.1zM2.7,1.8H3V2.1H2.7zM3.3,1.8H3.6V2.1H3.3zM3.6,1.8H3.9V2.1H3.6zM4.2,1.8H4.5V2.1H4.2zM6,1.8H6.3V2.1H6zM6.3,1.8H6.6V2.1H6.3zM6.9,1.8H7.2V2.1H6.9zM8.7,1.8H9V2.1H8.7zM0.3,2.1H0.6V2.4H0.3zM0.6,2.1H0.9V2.4H0.6zM0.9,2.1H1.2V2.4H0.9zM1.2,2.1H1.5V2.4H1.2zM1.5,2.1H1.8V2.4H1.5zM1.8,2.1H2.1V2.4H1.8zM2.1,2.1H2.4V2.4H2.1zM2.7,2.1H3V2.4H2.7zM3.3,2.1H3.6V2.4H3.3zM3.9,2.1H4.2V2.4H3.9zM4.5,2.1H4.8V2.4H4.5zM5.1,2.1H5.4V2.4H5.1zM5.7,2.1H6V2.4H5.7zM6.3,2.1H6.6V2.4H6.3zM6.9,2.1H7.2V2.4H6.9zM7.2,2.1H7.5V2.4H7.2zM7.5,2.1H7.8V2.4H7.5zM7.8,2.1H8.1V2.4H7.8zM8.1,2.1H8.4V2.4H8.1zM8.4,2.1H8.7V2.4H8.4zM8.7,2.1H9V2.4H8.7zM2.7,2.4H3V2.7H2.7zM3.6,2.4H3.9V2.7H3.6zM5.1,2.4H5.4V2.7H5.1zM5.4,2.4H5.7V2.7H5.4zM6,2.4H6.3V2.7H6zM6.3,2.4H6.6V2.7H6.3zM0.3,2.7H0.6V3H0.3zM1.5,2.7H1.8V3H1.5zM2.1,2.7H2.4V3H2.1zM2.4,2.7H2.7V3H2.4zM2.7,2.7H3V3H2.7zM3.9,2.7H4.2V3H3.9zM4.8,2.7H5.1V3H4.8zM5.4,2.7H5.7V3H5.4zM6.3,2.7H6.6V3H6.3zM6.6,2.7H6.9V3H6.6zM6.9,2.7H7.2V3H6.9zM7.2,2.7H7.5V3H7.2zM7.5,2.7H7.8V3H7.5zM7.8,2.7H8.1V3H7.8zM8.7,2.7H9V3H8.7zM0.6,3H0.9V3.3H0.6zM0.9,3H1.2V3.3H0.9zM1.2,3H1.5V3.3H1.2zM1.5,3H1.8V3.3H1.5zM2.4,3H2.7V3.3H2.4zM2.7,3H3V3.3H2.7zM3.6,3H3.9V3.3H3.6zM3.9,3H4.2V3.3H3.9zM4.2,3H4.5V3.3H4.2zM4.8,3H5.1V3.3H4.8zM5.1,3H5.4V3.3H5.1zM5.4,3H5.7V3.3H5.4zM5.7,3H6V3.3H5.7zM6.3,3H6.6V3.3H6.3zM6.9,3H7.2V3.3H6.9zM7.2,3H7.5V3.3H7.2zM7.5,3H7.8V3.3H7.5zM7.8,3H8.1V3.3H7.8zM8.1,3H8.4V3.3H8.1zM8.4,3H8.7V3.3H8.4zM8.7,3H9V3.3H8.7zM0.3,3.3H0.6V3.6H0.3zM1.2,3.3H1.5V3.6H1.2zM1.5,3.3H1.8V3.6H1.5zM1.8,3.3H2.1V3.6H1.8zM2.1,3.3H2.4V3.6H2.1zM3.3,3.3H3.6V3.6H3.3zM3.6,3.3H3.9V3.6H3.6zM3.9,3.3H4.2V3.6H3.9zM4.2,3.3H4.5V3.6H4.2zM4.8,3.3H5.1V3.6H4.8zM5.4,3.3H5.7V3.6H5.4zM6.3,3.3H6.6V3.6H6.3zM7.5,3.3H7.8V3.6H7.5zM8.7,3.3H9V3.6H8.7zM0.3,3.6H0.6V3.9H0.3zM0.6,3.6H0.9V3.9H0.6zM0.9,3.6H1.2V3.9H0.9zM1.5,3.6H1.8V3.9H1.5zM1.8,3.6H2.1V3.9H1.8zM2.4,3.6H2.7V3.9H2.4zM2.7,3.6H3V3.9H2.7zM3.3,3.6H3.6V3.9H3.3zM3.9,3.6H4.2V3.9H3.9zM4.5,3.6H4.8V3.9H4.5zM5.4,3.6H5.7V3.9H5.4zM7.2,3.6H7.5V3.9H7.2zM7.5,3.6H7.8V3.9H7.5zM7.8,3.6H8.1V3.9H7.8zM8.4,3.6H8.7V3.9H8.4zM8.7,3.6H9V3.9H8.7zM0.6,3.9H0.9V4.2H0.6zM1.2,3.9H1.5V4.2H1.2zM2.1,3.9H2.4V4.2H2.1zM2.4,3.9H2.7V4.2H2.4zM2.7,3.9H3V4.2H2.7zM3,3.9H3.3V4.2H3zM3.9,3.9H4.2V4.2H3.9zM4.2,3.9H4.5V4.2H4.2zM4.5,3.9H4.8V4.2H4.5zM4.8,3.9H5.1V4.2H4.8zM5.4,3.9H5.7V4.2H5.4zM6.3,3.9H6.6V4.2H6.3zM6.6,3.9H6.9V4.2H6.6zM8.4,3.9H8.7V4.2H8.4zM0.9,4.2H1.2V4.5H0.9zM1.2,4.2H1.5V4.5H1.2zM1.8,4.2H2.1V4.5H1.8zM2.7,4.2H3V4.5H2.7zM3,4.2H3.3V4.5H3zM3.3,4.2H3.6V4.5H3.3zM3.9,4.2H4.2V4.5H3.9zM4.5,4.2H4.8V4.5H4.5zM4.8,4.2H5.1V4.5H4.8zM5.1,4.2H5.4V4.5H5.1zM6.9,4.2H7.2V4.5H6.9zM7.2,4.2H7.5V4.5H7.2zM7.5,4.2H7.8V4.5H7.5zM7.8,4.2H8.1V4.5H7.8zM8.1,4.2H8.4V4.5H8.1zM8.4,4.2H8.7V4.5H8.4zM8.7,4.2H9V4.5H8.7zM0.6,4.5H0.9V4.8H0.6zM1.5,4.5H1.8V4.8H1.5zM2.1,4.5H2.4V4.8H2.1zM2.7,4.5H3V4.8H2.7zM3,4.5H3.3V4.8H3zM3.6,4.5H3.9V4.8H3.6zM3.9,4.5H4.2V4.8H3.9zM4.2,4.5H4.5V4.8H4.2zM4.5,4.5H4.8V4.8H4.5zM4.8,4.5H5.1V4.8H4.8zM5.1,4.5H5.4V4.8H5.1zM5.4,4.5H5.7V4.8H5.4zM5.7,4.5H6V4.8H5.7zM6.3,4.5H6.6V4.8H6.3zM7.5,4.5H7.8V4.8H7.5zM7.8,4.5H8.1V4.8H7.8zM8.1,4.5H8.4V4.8H8.1zM8.7,4.5H9V4.8H8.7zM0.6,4.8H0.9V5.1H0.6zM1.5,4.8H1.8V5.1H1.5zM1.8,4.8H2.1V5.1H1.8zM3,4.8H3.3V5.1H3zM3.3,4.8H3.6V5.1H3.3zM3.6,4.8H3.9V5.1H3.6zM4.2,4.8H4.5V5.1H4.2zM5.1,4.8H5.4V5.1H5.1zM5.4,4.8H5.7V5.1H5.4zM5.7,4.8H6V5.1H5.7zM6.3,4.8H6.6V5.1H6.3zM6.6,4.8H6.9V5.1H6.6zM7.5,4.8H7.8V5.1H7.5zM8.4,4.8H8.7V5.1H8.4zM8.7,4.8H9V5.1H8.7zM0.3,5.1H0.6V5.4H0.3zM1.2,5.1H1.5V5.4H1.2zM1.8,5.1H2.1V5.4H1.8zM2.1,5.1H2.4V5.4H2.1zM2.7,5.1H3V5.4H2.7zM3,5.1H3.3V5.4H3zM3.3,5.1H3.6V5.4H3.3zM4.2,5.1H4.5V5.4H4.2zM5.1,5.1H5.4V5.4H5.1zM5.4,5.1H5.7V5.4H5.4zM6.3,5.1H6.6V5.4H6.3zM6.6,5.1H6.9V5.4H6.6zM8.4,5.1H8.7V5.4H8.4zM0.3,5.4H0.6V5.7H0.3zM1.5,5.4H1.8V5.7H1.5zM2.4,5.4H2.7V5.7H2.4zM2.7,5.4H3V5.7H2.7zM3,5.4H3.3V5.7H3zM3.9,5.4H4.2V5.7H3.9zM4.2,5.4H4.5V5.7H4.2zM4.5,5.4H4.8V5.7H4.5zM4.8,5.4H5.1V5.7H4.8zM5.1,5.4H5.4V5.7H5.1zM5.7,5.4H6V5.7H5.7zM6.9,5.4H7.2V5.7H6.9zM7.2,5.4H7.5V5.7H7.2zM7.5,5.4H7.8V5.7H7.5zM7.8,5.4H8.1V5.7H7.8zM8.4,5.4H8.7V5.7H8.4zM8.7,5.4H9V5.7H8.7zM1.2,5.7H1.5V6H1.2zM2.1,5.7H2.4V6H2.1zM2.4,5.7H2.7V6H2.4zM3,5.7H3.3V6H3zM3.3,5.7H3.6V6H3.3zM3.9,5.7H4.2V6H3.9zM4.8,5.7H5.1V6H4.8zM5.1,5.7H5.4V6H5.1zM6.3,5.7H6.6V6H6.3zM7.2,5.7H7.5V6H7.2zM8.1,5.7H8.4V6H8.1zM8.7,5.7H9V6H8.7zM0.9,6H1.2V6.3H0.9zM1.5,6H1.8V6.3H1.5zM1.8,6H2.1V6.3H1.8zM2.4,6H2.7V6.3H2.4zM2.7,6H3V6.3H2.7zM4.5,6H4.8V6.3H4.5zM4.8,6H5.1V6.3H4.8zM5.1,6H5.4V6.3H5.1zM5.4,6H5.7V6.3H5.4zM6.3,6H6.6V6.3H6.3zM8.4,6H8.7V6.3H8.4zM8.7,6H9V6.3H8.7zM0.3,6.3H0.6V6.6H0.3zM0.6,6.3H0.9V6.6H0.6zM1.2,6.3H1.5V6.6H1.2zM1.5,6.3H1.8V6.6H1.5zM2.1,6.3H2.4V6.6H2.1zM4.2,6.3H4.5V6.6H4.2zM4.5,6.3H4.8V6.6H4.5zM5.1,6.3H5.4V6.6H5.1zM5.4,6.3H5.7V6.6H5.4zM5.7,6.3H6V6.6H5.7zM6,6.3H6.3V6.6H6zM6.3,6.3H6.6V6.6H6.3zM6.6,6.3H6.9V6.6H6.6zM6.9,6.3H7.2V6.6H6.9zM7.2,6.3H7.5V6.6H7.2zM7.5,6.3H7.8V6.6H7.5zM7.8,6.3H8.1V6.6H7.8zM8.7,6.3H9V6.6H8.7zM2.7,6.6H3V6.9H2.7zM3,6.6H3.3V6.9H3zM3.3,6.6H3.6V6.9H3.3zM3.6,6.6H3.9V6.9H3.6zM3.9,6.6H4.2V6.9H3.9zM4.8,6.6H5.1V6.9H4.8zM5.1,6.6H5.4V6.9H5.1zM5.4,6.6H5.7V6.9H5.4zM5.7,6.6H6V6.9H5.7zM6.3,6.6H6.6V6.9H6.3zM7.5,6.6H7.8V6.9H7.5zM8.7,6.6H9V6.9H8.7zM0.3,6.9H0.6V7.2H0.3zM0.6,6.9H0.9V7.2H0.6zM0.9,6.9H1.2V7.2H0.9zM1.2,6.9H1.5V7.2H1.2zM1.5,6.9H1.8V7.2H1.5zM1.8,6.9H2.1V7.2H1.8zM2.1,6.9H2.4V7.2H2.1zM2.7,6.9H3V7.2H2.7zM3,6.9H3.3V7.2H3zM3.6,6.9H3.9V7.2H3.6zM3.9,6.9H4.2V7.2H3.9zM4.2,6.9H4.5V7.2H4.2zM4.5,6.9H4.8V7.2H4.5zM4.8,6.9H5.1V7.2H4.8zM5.7,6.9H6V7.2H5.7zM6,6.9H6.3V7.2H6zM6.3,6.9H6.6V7.2H6.3zM6.9,6.9H7.2V7.2H6.9zM7.5,6.9H7.8V7.2H7.5zM7.8,6.9H8.1V7.2H7.8zM8.1,6.9H8.4V7.2H8.1zM8.7,6.9H9V7.2H8.7zM0.3,7.2H0.6V7.5H0.3zM2.1,7.2H2.4V7.5H2.1zM3.3,7.2H3.6V7.5H3.3zM3.6,7.2H3.9V7.5H3.6zM3.9,7.2H4.2V7.5H3.9zM4.2,7.2H4.5V7.5H4.2zM5.1,7.2H5.4V7.5H5.1zM5.4,7.2H5.7V7.5H5.4zM6,7.2H6.3V7.5H6zM6.3,7.2H6.6V7.5H6.3zM7.5,7.2H7.8V7.5H7.5zM0.3,7.5H0.6V7.8H0.3zM0.9,7.5H1.2V7.8H0.9zM1.2,7.5H1.5V7.8H1.2zM1.5,7.5H1.8V7.8H1.5zM2.1,7.5H2.4V7.8H2.1zM2.7,7.5H3V7.8H2.7zM3,7.5H3.3V7.8H3zM3.3,7.5H3.6V7.8H3.3zM4.2,7.5H4.5V7.8H4.2zM5.4,7.5H5.7V7.8H5.4zM6,7.5H6.3V7.8H6zM6.3,7.5H6.6V7.8H6.3zM6.6,7.5H6.9V7.8H6.6zM6.9,7.5H7.2V7.8H6.9zM7.2,7.5H7.5V7.8H7.2zM7.5,7.5H7.8V7.8H7.5zM7.8,7.5H8.1V7.8H7.8zM8.4,7.5H8.7V7.8H8.4zM0.3,7.8H0.6V8.1H0.3zM0.9,7.8H1.2V8.1H0.9zM1.2,7.8H1.5V8.1H1.2zM1.5,7.8H1.8V8.1H1.5zM2.1,7.8H2.4V8.1H2.1zM3,7.8H3.3V8.1H3zM3.3,7.8H3.6V8.1H3.3zM3.6,7.8H3.9V8.1H3.6zM4.2,7.8H4.5V8.1H4.2zM4.5,7.8H4.8V8.1H4.5zM4.8,7.8H5.1V8.1H4.8zM5.4,7.8H5.7V8.1H5.4zM5.7,7.8H6V8.1H5.7zM6,7.8H6.3V8.1H6zM6.6,7.8H6.9V8.1H6.6zM7.2,7.8H7.5V8.1H7.2zM8.7,7.8H9V8.1H8.7zM0.3,8.1H0.6V8.4H0.3zM0.9,8.1H1.2V8.4H0.9zM1.2,8.1H1.5V8.4H1.2zM1.5,8.1H1.8V8.4H1.5zM2.1,8.1H2.4V8.4H2.1zM3,8.1H3.3V8.4H3zM3.3,8.1H3.6V8.4H3.3zM3.6,8.1H3.9V8.4H3.6zM4.2,8.1H4.5V8.4H4.2zM4.5,8.1H4.8V8.4H4.5zM4.8,8.1H5.1V8.4H4.8zM5.4,8.1H5.7V8.4H5.4zM6.3,8.1H6.6V8.4H6.3zM6.6,8.1H6.9V8.4H6.6zM7.8,8.1H8.1V8.4H7.8zM8.1,8.1H8.4V8.4H8.1zM8.4,8.1H8.7V8.4H8.4zM8.7,8.1H9V8.4H8.7zM0.3,8.4H0.6V8.7H0.3zM2.1,8.4H2.4V8.7H2.1zM3,8.4H3.3V8.7H3zM3.6,8.4H3.9V8.7H3.6zM3.9,8.4H4.2V8.7H3.9zM4.2,8.4H4.5V8.7H4.2zM5.4,8.4H5.7V8.7H5.4zM5.7,8.4H6V8.7H5.7zM6,8.4H6.3V8.7H6zM6.3,8.4H6.6V8.7H6.3zM6.6,8.4H6.9V8.7H6.6zM7.5,8.4H7.8V8.7H7.5zM7.8,8.4H8.1V8.7H7.8zM8.4,8.4H8.7V8.7H8.4zM8.7,8.4H9V8.7H8.7zM0.3,8.7H0.6V9H0.3zM0.6,8.7H0.9V9H0.6zM0.9,8.7H1.2V9H0.9zM1.2,8.7H1.5V9H1.2zM1.5,8.7H1.8V9H1.5zM1.8,8.7H2.1V9H1.8zM2.1,8.7H2.4V9H2.1zM2.7,8.7H3V9H2.7zM3,8.7H3.3V9H3zM3.3,8.7H3.6V9H3.3zM3.6,8.7H3.9V9H3.6zM4.8,8.7H5.1V9H4.8zM5.4,8.7H5.7V9H5.4zM6.3,8.7H6.6V9H6.3zM6.6,8.7H6.9V9H6.6zM7.2,8.7H7.5V9H7.2zM7.8,8.7H8.1V9H7.8zM8.4,8.7H8.7V9H8.4z\" id=\"qr-path\" fill=\"#000000\" fill-opacity=\"1\" fill-rule=\"nonzero\" stroke=\"none\"/></svg>'"
      ]
     },
     "execution_count": 1,
     "metadata": {},
     "output_type": "execute_result"
    }
   ],
   "source": [
    "import qrcode\n",
    "import qrcode.image.svg\n",
    "from xml.etree import ElementTree as ET\n",
    "\n",
    "def generate_svg_qrcode(data, color=\"#000000\", bg_color=\"#FFFFFF\"):\n",
    "    # 创建二维码实例\n",
    "    qr = qrcode.QRCode(\n",
    "        version=1,\n",
    "        error_correction=qrcode.constants.ERROR_CORRECT_M,\n",
    "        box_size=3,\n",
    "        border=1,\n",
    "    )\n",
    "    \n",
    "    # 添加数据\n",
    "    qr.add_data(data)\n",
    "    qr.make(fit=True)\n",
    "    \n",
    "    # 生成SVG\n",
    "    factory = qrcode.image.svg.SvgPathImage\n",
    "    img = qr.make_image(image_factory=factory, \n",
    "                       fill_color=color, \n",
    "                       back_color=bg_color)\n",
    "    \n",
    "    # 转换为字符串并返回\n",
    "    return img.to_string(encoding='unicode')\n",
    "\n",
    "# 使用示例\n",
    "qr_svg = generate_svg_qrcode(\n",
    "    \"https://otokonoizumi.github.io#projects\", \n",
    "    color=\"#FB7299\", \n",
    "    bg_color=\"#FFFFFF\"\n",
    ")\n",
    "qr_svg"
   ]
  }
 ],
 "metadata": {
  "kernelspec": {
   "display_name": "WorkSpace",
   "language": "python",
   "name": "python3"
  },
  "language_info": {
   "codemirror_mode": {
    "name": "ipython",
    "version": 3
   },
   "file_extension": ".py",
   "mimetype": "text/x-python",
   "name": "python",
   "nbconvert_exporter": "python",
   "pygments_lexer": "ipython3",
   "version": "3.11.9"
  }
 },
 "nbformat": 4,
 "nbformat_minor": 5
}
